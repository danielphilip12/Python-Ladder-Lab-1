{
  "cells": [
    {
      "cell_type": "markdown",
      "metadata": {
        "id": "view-in-github",
        "colab_type": "text"
      },
      "source": [
        "<a href=\"https://colab.research.google.com/github/danielphilip12/Python-Ladder-Lab-1/blob/main/Daniel_Gallo's_Copy_of_%F0%9F%A7%AA_Lab_Ladder_Part_1_Numbers%2C_Variables%2C_and_Math.ipynb\" target=\"_parent\"><img src=\"https://colab.research.google.com/assets/colab-badge.svg\" alt=\"Open In Colab\"/></a>"
      ]
    },
    {
      "cell_type": "markdown",
      "metadata": {
        "id": "1xbyIYOxEjtO"
      },
      "source": [
        "<div>\n",
        "<img src=\"https://coursereport-s3-production.global.ssl.fastly.net/uploads/school/logo/219/original/CT_LOGO_NEW.jpg\" width=60>\n",
        "</div>\n",
        "\n",
        "# **Python Ladder Challenges - Numbers, Variables, and Math**\n"
      ]
    },
    {
      "cell_type": "markdown",
      "metadata": {
        "id": "KnVBAM15EjtU"
      },
      "source": [
        "# Climb the Ladder!\n",
        "Our class moves quickly! Sometimes, it feels like we make leaps in logic that are a bit too big. Learn Python _slowly_, by doing many, many examples. Problems in this notebook start out easy and progressively get harder, so that the next rung of the Python ladder is always within reach."
      ]
    },
    {
      "cell_type": "markdown",
      "metadata": {
        "id": "EzauZNpgEjtV"
      },
      "source": [
        "# Section I: Numbers, variables, and math.\n",
        "\n",
        "\n"
      ]
    },
    {
      "cell_type": "markdown",
      "metadata": {
        "id": "FXFOim8IEjtW"
      },
      "source": [
        "1) What is 13579 times 86420? - I'll help you get started!"
      ]
    },
    {
      "cell_type": "code",
      "execution_count": null,
      "metadata": {
        "colab": {
          "base_uri": "https://localhost:8080/"
        },
        "id": "DlYIbrFDEjtW",
        "outputId": "e4962014-00fa-4182-aebf-43e3276fb032"
      },
      "outputs": [
        {
          "output_type": "execute_result",
          "data": {
            "text/plain": [
              "1173497180"
            ]
          },
          "metadata": {},
          "execution_count": 2
        }
      ],
      "source": [
        "13579 * 86420"
      ]
    },
    {
      "cell_type": "markdown",
      "metadata": {
        "id": "Cj0m-TuPmS1V"
      },
      "source": [
        "2) What is 10000 divided by 4?"
      ]
    },
    {
      "cell_type": "code",
      "execution_count": null,
      "metadata": {
        "id": "kzyMJbZFmLKc",
        "colab": {
          "base_uri": "https://localhost:8080/"
        },
        "outputId": "b73f0317-40d9-4271-842b-e25926989642"
      },
      "outputs": [
        {
          "output_type": "execute_result",
          "data": {
            "text/plain": [
              "2500.0"
            ]
          },
          "metadata": {},
          "execution_count": 1
        }
      ],
      "source": [
        "10000 / 4"
      ]
    },
    {
      "cell_type": "markdown",
      "metadata": {
        "id": "Y6WwCSATmaLs"
      },
      "source": [
        "3) What is 123456789 + 987654321?"
      ]
    },
    {
      "cell_type": "code",
      "execution_count": null,
      "metadata": {
        "id": "95XrRhGymaBl",
        "colab": {
          "base_uri": "https://localhost:8080/"
        },
        "outputId": "3627cbd5-52ec-4661-f4eb-074d6ee7faef"
      },
      "outputs": [
        {
          "output_type": "execute_result",
          "data": {
            "text/plain": [
              "1111111110"
            ]
          },
          "metadata": {},
          "execution_count": 3
        }
      ],
      "source": [
        "123456789 + 987654321"
      ]
    },
    {
      "cell_type": "markdown",
      "metadata": {
        "id": "Q53OuzTHmmIY"
      },
      "source": [
        "4) What is 50 - 130?"
      ]
    },
    {
      "cell_type": "code",
      "execution_count": null,
      "metadata": {
        "id": "8G7U7T7dml8o",
        "colab": {
          "base_uri": "https://localhost:8080/"
        },
        "outputId": "4a3e4724-8b0f-43b7-a19b-d1ce49cdec58"
      },
      "outputs": [
        {
          "output_type": "execute_result",
          "data": {
            "text/plain": [
              "-80"
            ]
          },
          "metadata": {},
          "execution_count": 4
        }
      ],
      "source": [
        "50 - 130"
      ]
    },
    {
      "cell_type": "markdown",
      "metadata": {
        "id": "NSbhvLk9ih6x"
      },
      "source": [
        "5) Create a variable `num` and assign a number to it. Print the square and cube of that number.\n",
        "\n"
      ]
    },
    {
      "cell_type": "code",
      "execution_count": null,
      "metadata": {
        "id": "sYt0Hb0FihzR",
        "colab": {
          "base_uri": "https://localhost:8080/"
        },
        "outputId": "a699afb2-7409-493a-907f-6a40019b5167"
      },
      "outputs": [
        {
          "output_type": "stream",
          "name": "stdout",
          "text": [
            "100\n",
            "1000\n"
          ]
        }
      ],
      "source": [
        "num = 10\n",
        "print(num ** 2)\n",
        "print(num ** 3)"
      ]
    },
    {
      "cell_type": "markdown",
      "metadata": {
        "id": "x-JmZuxukdVy"
      },
      "source": [
        "6) You're shopping, and one of your favorite products, usually priced at $50, is currently on sale with a 25% discount! Utilize the provided variables to compute the updated price of your beloved product. ***Keep in mind, we're interested in determining the new price of the product, not the amount of the discount.***"
      ]
    },
    {
      "cell_type": "code",
      "execution_count": null,
      "metadata": {
        "id": "e3RrY7uxkc-w",
        "colab": {
          "base_uri": "https://localhost:8080/"
        },
        "outputId": "29136257-d95a-4273-c47d-8d3f71ab5605"
      },
      "outputs": [
        {
          "output_type": "stream",
          "name": "stdout",
          "text": [
            "37.5\n"
          ]
        }
      ],
      "source": [
        "\n",
        "regular_price = 50\n",
        "discount = 0.25\n",
        "updated_price = regular_price - (regular_price * discount)\n",
        "print(updated_price)"
      ]
    },
    {
      "cell_type": "markdown",
      "metadata": {
        "id": "BDtE7_7Kihkr"
      },
      "source": [
        "7) The temperature is currently 30$^{\\circ}$C! Calculate its equivalent in Fahrenheit using the formula $F = \\frac{9}{5}C+32$"
      ]
    },
    {
      "cell_type": "code",
      "execution_count": null,
      "metadata": {
        "id": "m-mN3iOXihTf",
        "colab": {
          "base_uri": "https://localhost:8080/"
        },
        "outputId": "ba42f73f-efe9-4f82-d156-2f28b1a1d8b8"
      },
      "outputs": [
        {
          "output_type": "stream",
          "name": "stdout",
          "text": [
            "86.0\n"
          ]
        }
      ],
      "source": [
        "f = ((9/5) * 30) + 32\n",
        "print(f)"
      ]
    },
    {
      "cell_type": "markdown",
      "metadata": {
        "id": "B99oFuIGhRwO"
      },
      "source": [
        "8) Set up two variables, `height` and `base`, to represent the dimensions of a triangle. Assign the value 5 to the variable `height` and the value 12 to the variable `base`."
      ]
    },
    {
      "cell_type": "code",
      "execution_count": null,
      "metadata": {
        "id": "kj_Hq77PhQ_u"
      },
      "outputs": [],
      "source": [
        "height = 5\n",
        "base = 12"
      ]
    },
    {
      "cell_type": "markdown",
      "metadata": {
        "id": "Vjm8hgxPhQ0g"
      },
      "source": [
        "9) Utilize the previously defined variables, `height` and `base`, to determine the area of the triangle. Recall that the formula for the area of a triangle is $A = \\frac{1}{2}bh$."
      ]
    },
    {
      "cell_type": "code",
      "execution_count": null,
      "metadata": {
        "id": "W3YKhzUJhQei",
        "colab": {
          "base_uri": "https://localhost:8080/"
        },
        "outputId": "ce4ca651-9112-43cf-c259-bfdd6be82b9d"
      },
      "outputs": [
        {
          "output_type": "stream",
          "name": "stdout",
          "text": [
            "30.0\n"
          ]
        }
      ],
      "source": [
        "area = 0.5 * (height * base)\n",
        "print(area)"
      ]
    },
    {
      "cell_type": "markdown",
      "metadata": {
        "id": "ykNKBxa4EjtX"
      },
      "source": [
        "10) The speed of light $c$ is 300,000,000 m/s. The binding energy of a given particle is $E = mc^2$. Compute $E$ for a given particle that has mass of 17kg."
      ]
    },
    {
      "cell_type": "code",
      "execution_count": null,
      "metadata": {
        "id": "ep8ZV_YxEjtY",
        "colab": {
          "base_uri": "https://localhost:8080/"
        },
        "outputId": "8573aba9-43bb-4fa2-8bce-1752f1bb1812"
      },
      "outputs": [
        {
          "output_type": "stream",
          "name": "stdout",
          "text": [
            "1530000000000000000\n"
          ]
        }
      ],
      "source": [
        "E = 17 * (300000000 ** 2)\n",
        "print(E)"
      ]
    },
    {
      "cell_type": "markdown",
      "metadata": {
        "id": "WHvNt5NMhJCx"
      },
      "source": [
        "11) You have $500 in an account that compounds 6% interest annually. How much money will you have after 5 years? The formula for this calculation is:\n",
        "\n",
        "$$\\text{Final amount} = A(1 + r)^t$$\n",
        "\n",
        "Where $A$ is the initial amount, $r$ is the interest rate, and $t$ is the number of years."
      ]
    },
    {
      "cell_type": "code",
      "execution_count": null,
      "metadata": {
        "id": "u-4jEPa1Ejtd",
        "colab": {
          "base_uri": "https://localhost:8080/"
        },
        "outputId": "b1dc1e8d-9000-4094-8b66-5df05f76acce"
      },
      "outputs": [
        {
          "output_type": "stream",
          "name": "stdout",
          "text": [
            "669.1127888000001\n"
          ]
        }
      ],
      "source": [
        "fa = 500 * (1 + 0.06)**5\n",
        "print(fa)"
      ]
    },
    {
      "cell_type": "code",
      "source": [],
      "metadata": {
        "id": "8b3FJiTjChCv"
      },
      "execution_count": null,
      "outputs": []
    }
  ],
  "metadata": {
    "colab": {
      "provenance": [],
      "include_colab_link": true
    },
    "kernelspec": {
      "display_name": "Python 3",
      "language": "python",
      "name": "python3"
    },
    "language_info": {
      "codemirror_mode": {
        "name": "ipython",
        "version": 3
      },
      "file_extension": ".py",
      "mimetype": "text/x-python",
      "name": "python",
      "nbconvert_exporter": "python",
      "pygments_lexer": "ipython3",
      "version": "3.8.3"
    }
  },
  "nbformat": 4,
  "nbformat_minor": 0
}